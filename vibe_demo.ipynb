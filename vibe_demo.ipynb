{
 "cells": [
  {
   "cell_type": "markdown",
   "metadata": {
    "colab_type": "text",
    "id": "view-in-github"
   },
   "source": [
    "<a href=\"https://colab.research.google.com/github/cedro3/VIBE/blob/master/vibe_demo.ipynb\" target=\"_parent\"><img src=\"https://colab.research.google.com/assets/colab-badge.svg\" alt=\"Open In Colab\"/></a>"
   ]
  },
  {
   "cell_type": "markdown",
   "metadata": {
    "id": "kJe1q2JFK4LZ"
   },
   "source": [
    "# セットアップ"
   ]
  },
  {
   "cell_type": "code",
   "execution_count": null,
   "metadata": {
    "id": "Tvd4cfPk5a0e"
   },
   "outputs": [],
   "source": [
    "# githubからコードをコピー\n",
    "!git clone https://github.com/cedro3/VIBE.git\n",
    "%cd VIBE/\n",
    "\n",
    "# ライブラリを取得\n",
    "!pip install torch==1.4.0 numpy==1.17.5\n",
    "!pip install git+https://github.com/giacaglia/pytube.git --upgrade\n",
    "!pip install -r requirements.txt\n",
    "\n",
    "# 学習済み重みとSMPLデータのダウンロード\n",
    "!source scripts/prepare_data.sh"
   ]
  },
  {
   "cell_type": "markdown",
   "metadata": {
    "id": "nflTgaAWLqsu"
   },
   "source": [
    "# デモの実行\n",
    "最後に --sideview オプションを追加すると横からのView推定も行います。"
   ]
  },
  {
   "cell_type": "code",
   "execution_count": null,
   "metadata": {
    "id": "qVNszfLQ7rC9"
   },
   "outputs": [],
   "source": [
    "# デモの実行\n",
    "!python demo.py --vid_file girl_dance.mp4 --output_folder output/ "
   ]
  },
  {
   "cell_type": "code",
   "execution_count": null,
   "metadata": {
    "id": "j8zxBa_K-FJf"
   },
   "outputs": [],
   "source": [
    "# 作成した動画を再生する\n",
    "from IPython.display import HTML\n",
    "from base64 import b64encode\n",
    "\n",
    "def video(path):\n",
    "  mp4 = open(path,'rb').read()\n",
    "  data_url = \"data:video/mp4;base64,\" + b64encode(mp4).decode()\n",
    "  return HTML('<video width=500 controls loop> <source src=\"%s\" type=\"video/mp4\"></video>' % data_url)\n",
    "\n",
    "video('output/girl_dance/girl_dance_vibe_result.mp4')  "
   ]
  }
 ],
 "metadata": {
  "accelerator": "GPU",
  "colab": {
   "collapsed_sections": [],
   "include_colab_link": true,
   "name": "vibe_demo",
   "provenance": [],
   "toc_visible": true
  },
  "kernelspec": {
   "display_name": "Python 3",
   "language": "python",
   "name": "python3"
  },
  "language_info": {
   "codemirror_mode": {
    "name": "ipython",
    "version": 3
   },
   "file_extension": ".py",
   "mimetype": "text/x-python",
   "name": "python",
   "nbconvert_exporter": "python",
   "pygments_lexer": "ipython3",
   "version": "3.7.9"
  }
 },
 "nbformat": 4,
 "nbformat_minor": 1
}
